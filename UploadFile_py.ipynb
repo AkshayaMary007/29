{
  "nbformat": 4,
  "nbformat_minor": 0,
  "metadata": {
    "colab": {
      "name": "UploadFile.py",
      "provenance": [],
      "collapsed_sections": [],
      "authorship_tag": "ABX9TyPIpM+e3KxFMX8Y+YoMTJuU",
      "include_colab_link": true
    },
    "kernelspec": {
      "name": "python3",
      "display_name": "Python 3"
    },
    "language_info": {
      "name": "python"
    }
  },
  "cells": [
    {
      "cell_type": "markdown",
      "metadata": {
        "id": "view-in-github",
        "colab_type": "text"
      },
      "source": [
        "<a href=\"https://colab.research.google.com/github/AkshayaMary007/29/blob/main/UploadFile_py.ipynb\" target=\"_parent\"><img src=\"https://colab.research.google.com/assets/colab-badge.svg\" alt=\"Open In Colab\"/></a>"
      ]
    },
    {
      "cell_type": "code",
      "execution_count": 1,
      "metadata": {
        "colab": {
          "base_uri": "https://localhost:8080/",
          "height": 131
        },
        "id": "j_awc5xFkSgt",
        "outputId": "c71dd186-1c0d-40a9-d7c7-8d4abafc0973"
      },
      "outputs": [
        {
          "output_type": "error",
          "ename": "SyntaxError",
          "evalue": "ignored",
          "traceback": [
            "\u001b[0;36m  File \u001b[0;32m\"<ipython-input-1-9f1d2c32e534>\"\u001b[0;36m, line \u001b[0;32m4\u001b[0m\n\u001b[0;31m    from dropbox.files\u001b[0m\n\u001b[0m                       ^\u001b[0m\n\u001b[0;31mSyntaxError\u001b[0m\u001b[0;31m:\u001b[0m invalid syntax\n"
          ]
        }
      ],
      "source": [
        "# import required libraries\n",
        "import os\n",
        "import dropbox\n",
        "from dropbox.files \n",
        "import WriteMode\n",
        "\n",
        "# this is the transfer data class\n",
        "class TransferData:\n",
        "    def __init__(self,access_token):\n",
        "        self.access_token =  access_token\n",
        "    # function called upload files which uploads the files to dropbiox\n",
        "    def upload_file(self, file_from, file_to):\n",
        "        dbx = dropbox.Dropbox(self.access_token)\n",
        "\n",
        "        # for loop \n",
        "        for root, dirs, files in os.walk(file_from):\n",
        "\n",
        "            for filename in files:\n",
        "                    # path\n",
        "                local_path = os.path.join(root, filename)\n",
        "\n",
        "                    # make the path again\n",
        "                relative_path = os.path.relpath(local_path, file_from)\n",
        "                dropbox_path = os.path.join(file_to, relative_path)\n",
        "                    # upload the file to dropbox  as overwrite\n",
        "                with open(local_path, 'rb') as f:\n",
        "                    dbx.files_upload(f.read(), dropbox_path, mode=WriteMode('overwrite'))\n",
        "# run the main function\n",
        "def main():\n",
        "    \n",
        "    access_token = 'riFu6Ybhc9AAAAAAAAAAHWkfE9AiGyD6n4254tOxesw7ShRjGjFhrjhRVa3NX3mx'\n",
        "    transferData = TransferData(access_token)\n",
        "\n",
        "    file_from = str(input(\"Enter the folder path to transfer : -\"))\n",
        "    file_to = input(\"enter the full path to upload to dropbox:- \")  # This is the full path to upload the file to, including name that you wish the file to be called once uploaded.\n",
        "\n",
        "    # API v2\n",
        "    transferData.upload_file(file_from,file_to)\n",
        "    print(\"file has been moved !!!\")\n",
        "\n",
        "    print(\"Project done by:- L. Akshaya Mary\")\n",
        "    print(\"Special thanks to my teacher:- M. Rajatha\")\n",
        "\n",
        "main()"
      ]
    }
  ]
}